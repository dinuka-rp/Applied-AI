{
  "nbformat": 4,
  "nbformat_minor": 0,
  "metadata": {
    "colab": {
      "name": "AppledAI-Tut2.ipynb",
      "provenance": [],
      "collapsed_sections": [],
      "toc_visible": true,
      "authorship_tag": "ABX9TyPTtFZefG+/r8gUSKZXx0XH",
      "include_colab_link": true
    },
    "kernelspec": {
      "name": "python3",
      "display_name": "Python 3"
    },
    "language_info": {
      "name": "python"
    }
  },
  "cells": [
    {
      "cell_type": "markdown",
      "metadata": {
        "id": "view-in-github",
        "colab_type": "text"
      },
      "source": [
        "<a href=\"https://colab.research.google.com/github/dinuka-rp/Applied-AI/blob/main/Python%20Fundementals/AppledAI_Tut2.ipynb\" target=\"_parent\"><img src=\"https://colab.research.google.com/assets/colab-badge.svg\" alt=\"Open In Colab\"/></a>"
      ]
    },
    {
      "cell_type": "code",
      "metadata": {
        "colab": {
          "base_uri": "https://localhost:8080/"
        },
        "id": "Vpyx6zA2nqmG",
        "outputId": "f44ef815-12af-4111-a8c5-571a4ad23390"
      },
      "source": [
        "import sys\n",
        "\n",
        "print(sys.version)\n",
        "print(sys.path)"
      ],
      "execution_count": 1,
      "outputs": [
        {
          "output_type": "stream",
          "name": "stdout",
          "text": [
            "3.7.12 (default, Sep 10 2021, 00:21:48) \n",
            "[GCC 7.5.0]\n",
            "['', '/content', '/env/python', '/usr/lib/python37.zip', '/usr/lib/python3.7', '/usr/lib/python3.7/lib-dynload', '/usr/local/lib/python3.7/dist-packages', '/usr/lib/python3/dist-packages', '/usr/local/lib/python3.7/dist-packages/IPython/extensions', '/root/.ipython']\n"
          ]
        }
      ]
    },
    {
      "cell_type": "code",
      "metadata": {
        "colab": {
          "base_uri": "https://localhost:8080/"
        },
        "id": "N7zMjq_Bsarj",
        "outputId": "d6e6526c-bae3-449c-effb-34f1b17ed8da"
      },
      "source": [
        "# This is a code cell. Press shift-enger to execute it. \n",
        "import sys\n",
        "print(f'Dinuka is using python version {sys.version} on this machine.')"
      ],
      "execution_count": 3,
      "outputs": [
        {
          "output_type": "stream",
          "name": "stdout",
          "text": [
            "Dinuka is using python version 3.7.12 (default, Sep 10 2021, 00:21:48) \n",
            "[GCC 7.5.0] on this machine.\n"
          ]
        }
      ]
    },
    {
      "cell_type": "markdown",
      "metadata": {
        "id": "J0ittSbysvnM"
      },
      "source": [
        "# Markdown lets you format text. This is example text printed using Header 1 formatting"
      ]
    },
    {
      "cell_type": "code",
      "metadata": {
        "colab": {
          "base_uri": "https://localhost:8080/"
        },
        "id": "-QaVuIo6s1dv",
        "outputId": "2dec9682-97ec-488b-a1d8-ba142ed20a50"
      },
      "source": [
        "print('hello') #code cell"
      ],
      "execution_count": 4,
      "outputs": [
        {
          "output_type": "stream",
          "name": "stdout",
          "text": [
            "hello\n"
          ]
        }
      ]
    },
    {
      "cell_type": "markdown",
      "metadata": {
        "id": "SDaLUmzrtRNY"
      },
      "source": [
        "`This is a raw cell. You can copy any code here and it will not be changed. >>> 1 == 0 False >>> not (1 == 0) True >>> (2 == 2) and (2 == 3) False >>> (2 == 2) or (2 == 3) True`\n",
        "\n",
        "Raw cell can be useful when referencing code in a document or if you want to keep the layout and formatting."
      ]
    },
    {
      "cell_type": "markdown",
      "metadata": {
        "id": "6TQutvXvt43o"
      },
      "source": [
        "## Change directories using magic commands"
      ]
    },
    {
      "cell_type": "code",
      "metadata": {
        "colab": {
          "base_uri": "https://localhost:8080/",
          "height": 35
        },
        "id": "D2LcyQvYuBp0",
        "outputId": "e120e420-850a-468b-e128-60503093aa19"
      },
      "source": [
        "# %cd H:/dev\n",
        "%pwd"
      ],
      "execution_count": 9,
      "outputs": [
        {
          "output_type": "execute_result",
          "data": {
            "application/vnd.google.colaboratory.intrinsic+json": {
              "type": "string"
            },
            "text/plain": [
              "'/content'"
            ]
          },
          "metadata": {},
          "execution_count": 9
        }
      ]
    },
    {
      "cell_type": "code",
      "metadata": {
        "id": "ZwXMX3-zuO7o"
      },
      "source": [
        "# We can add python comments as well. \n",
        "# Notice that the state of the environment carries accross cells."
      ],
      "execution_count": null,
      "outputs": []
    },
    {
      "cell_type": "code",
      "metadata": {
        "colab": {
          "base_uri": "https://localhost:8080/",
          "height": 163
        },
        "id": "iF39y20TuW6O",
        "outputId": "5921595c-0191-42f7-b8d7-cbb9df6783fd"
      },
      "source": [
        "# List all magic commands\n",
        "%lsmagic"
      ],
      "execution_count": 7,
      "outputs": [
        {
          "output_type": "execute_result",
          "data": {
            "application/json": {
              "cell": {
                "prun": "ExecutionMagics",
                "file": "Other",
                "!": "OSMagics",
                "capture": "ExecutionMagics",
                "timeit": "ExecutionMagics",
                "script": "ScriptMagics",
                "pypy": "Other",
                "system": "OSMagics",
                "perl": "Other",
                "html": "DisplayMagics",
                "bash": "Other",
                "shell": "Other",
                "HTML": "Other",
                "python": "Other",
                "SVG": "Other",
                "javascript": "DisplayMagics",
                "bigquery": "Other",
                "js": "DisplayMagics",
                "writefile": "OSMagics",
                "ruby": "Other",
                "python3": "Other",
                "python2": "Other",
                "latex": "DisplayMagics",
                "sx": "OSMagics",
                "svg": "DisplayMagics",
                "sh": "Other",
                "time": "ExecutionMagics",
                "debug": "ExecutionMagics"
              },
              "line": {
                "psource": "NamespaceMagics",
                "logstart": "LoggingMagics",
                "popd": "OSMagics",
                "tensorflow_version": "Other",
                "loadpy": "CodeMagics",
                "colors": "BasicMagics",
                "who_ls": "NamespaceMagics",
                "lf": "Other",
                "ll": "Other",
                "pprint": "BasicMagics",
                "lk": "Other",
                "ls": "Other",
                "save": "CodeMagics",
                "tb": "ExecutionMagics",
                "lx": "Other",
                "pylab": "PylabMagics",
                "killbgscripts": "ScriptMagics",
                "quickref": "BasicMagics",
                "magic": "BasicMagics",
                "dhist": "OSMagics",
                "edit": "KernelMagics",
                "logstop": "LoggingMagics",
                "gui": "BasicMagics",
                "prun": "ExecutionMagics",
                "debug": "ExecutionMagics",
                "page": "BasicMagics",
                "logstate": "LoggingMagics",
                "ed": "Other",
                "pushd": "OSMagics",
                "timeit": "ExecutionMagics",
                "set_env": "OSMagics",
                "rehashx": "OSMagics",
                "hist": "Other",
                "qtconsole": "KernelMagics",
                "rm": "Other",
                "dirs": "OSMagics",
                "run": "ExecutionMagics",
                "reset_selective": "NamespaceMagics",
                "pinfo2": "NamespaceMagics",
                "matplotlib": "PylabMagics",
                "unload_ext": "ExtensionMagics",
                "doctest_mode": "BasicMagics",
                "logoff": "LoggingMagics",
                "reload_ext": "ExtensionMagics",
                "pdb": "ExecutionMagics",
                "load": "CodeMagics",
                "lsmagic": "BasicMagics",
                "autosave": "KernelMagics",
                "cd": "OSMagics",
                "pastebin": "CodeMagics",
                "alias_magic": "BasicMagics",
                "cp": "Other",
                "autocall": "AutoMagics",
                "ldir": "Other",
                "bookmark": "OSMagics",
                "connect_info": "KernelMagics",
                "mkdir": "Other",
                "system": "OSMagics",
                "whos": "NamespaceMagics",
                "rmdir": "Other",
                "automagic": "AutoMagics",
                "store": "StoreMagics",
                "more": "KernelMagics",
                "shell": "Other",
                "pdef": "NamespaceMagics",
                "precision": "BasicMagics",
                "pinfo": "NamespaceMagics",
                "pwd": "OSMagics",
                "psearch": "NamespaceMagics",
                "reset": "NamespaceMagics",
                "recall": "HistoryMagics",
                "xdel": "NamespaceMagics",
                "xmode": "BasicMagics",
                "cat": "Other",
                "mv": "Other",
                "rerun": "HistoryMagics",
                "logon": "LoggingMagics",
                "history": "HistoryMagics",
                "pycat": "OSMagics",
                "pip": "Other",
                "unalias": "OSMagics",
                "env": "OSMagics",
                "load_ext": "ExtensionMagics",
                "config": "ConfigMagics",
                "profile": "BasicMagics",
                "pfile": "NamespaceMagics",
                "less": "KernelMagics",
                "who": "NamespaceMagics",
                "notebook": "BasicMagics",
                "man": "KernelMagics",
                "sx": "OSMagics",
                "macro": "ExecutionMagics",
                "clear": "KernelMagics",
                "alias": "OSMagics",
                "time": "ExecutionMagics",
                "sc": "OSMagics",
                "rep": "Other",
                "pdoc": "NamespaceMagics"
              }
            },
            "text/plain": [
              "Available line magics:\n",
              "%alias  %alias_magic  %autocall  %automagic  %autosave  %bookmark  %cat  %cd  %clear  %colors  %config  %connect_info  %cp  %debug  %dhist  %dirs  %doctest_mode  %ed  %edit  %env  %gui  %hist  %history  %killbgscripts  %ldir  %less  %lf  %lk  %ll  %load  %load_ext  %loadpy  %logoff  %logon  %logstart  %logstate  %logstop  %ls  %lsmagic  %lx  %macro  %magic  %man  %matplotlib  %mkdir  %more  %mv  %notebook  %page  %pastebin  %pdb  %pdef  %pdoc  %pfile  %pinfo  %pinfo2  %pip  %popd  %pprint  %precision  %profile  %prun  %psearch  %psource  %pushd  %pwd  %pycat  %pylab  %qtconsole  %quickref  %recall  %rehashx  %reload_ext  %rep  %rerun  %reset  %reset_selective  %rm  %rmdir  %run  %save  %sc  %set_env  %shell  %store  %sx  %system  %tb  %tensorflow_version  %time  %timeit  %unalias  %unload_ext  %who  %who_ls  %whos  %xdel  %xmode\n",
              "\n",
              "Available cell magics:\n",
              "%%!  %%HTML  %%SVG  %%bash  %%bigquery  %%capture  %%debug  %%file  %%html  %%javascript  %%js  %%latex  %%perl  %%prun  %%pypy  %%python  %%python2  %%python3  %%ruby  %%script  %%sh  %%shell  %%svg  %%sx  %%system  %%time  %%timeit  %%writefile\n",
              "\n",
              "Automagic is ON, % prefix IS NOT needed for line magics."
            ]
          },
          "metadata": {},
          "execution_count": 7
        }
      ]
    },
    {
      "cell_type": "markdown",
      "metadata": {
        "id": "POCuJaTzul-K"
      },
      "source": [
        "## Now start exploring Python code."
      ]
    },
    {
      "cell_type": "markdown",
      "metadata": {
        "id": "PYeCBWGeuqRw"
      },
      "source": [
        "### Operators"
      ]
    },
    {
      "cell_type": "code",
      "metadata": {
        "colab": {
          "base_uri": "https://localhost:8080/"
        },
        "id": "iI4-gHieunog",
        "outputId": "74aae878-2dfb-4754-e026-32dcef7a0c75"
      },
      "source": [
        "print(1+1)\n",
        "print(2*3)"
      ],
      "execution_count": 10,
      "outputs": [
        {
          "output_type": "stream",
          "name": "stdout",
          "text": [
            "2\n",
            "6\n"
          ]
        }
      ]
    },
    {
      "cell_type": "markdown",
      "metadata": {
        "id": "vgePmx1yusJg"
      },
      "source": [
        "### Equality"
      ]
    },
    {
      "cell_type": "code",
      "metadata": {
        "colab": {
          "base_uri": "https://localhost:8080/"
        },
        "id": "KnsIAKnIut6T",
        "outputId": "6a9f5ad6-9155-4063-aef1-ce0ce39bd332"
      },
      "source": [
        "print(1 == 0)\n",
        "print(False == 0)\n",
        "print(True == 8)  #\n",
        "print(\"hello\" == 'hello')"
      ],
      "execution_count": 11,
      "outputs": [
        {
          "output_type": "stream",
          "name": "stdout",
          "text": [
            "False\n",
            "True\n",
            "False\n",
            "True\n"
          ]
        }
      ]
    },
    {
      "cell_type": "markdown",
      "metadata": {
        "id": "9ea9Lseluwfy"
      },
      "source": [
        "### Strings\n",
        "\n",
        "Operator overloading and standard set of string libraries."
      ]
    },
    {
      "cell_type": "code",
      "metadata": {
        "colab": {
          "base_uri": "https://localhost:8080/"
        },
        "id": "t9SDpTb5ux9X",
        "outputId": "45bebeab-92fb-4554-da3b-b9a7e4ecf17e"
      },
      "source": [
        "print('6COSC020W ' + 'Applied ' + 'AI' + '!'*3)\n",
        "print('applied ai'.upper())\n",
        "print(len('Artificial Intelligence'))"
      ],
      "execution_count": 12,
      "outputs": [
        {
          "output_type": "stream",
          "name": "stdout",
          "text": [
            "6COSC020W Applied AI!!!\n",
            "APPLIED AI\n",
            "23\n"
          ]
        }
      ]
    },
    {
      "cell_type": "markdown",
      "metadata": {
        "id": "oQZvfuWnvNeo"
      },
      "source": [
        "### Remember that Python is not statically typed\n",
        "\n",
        "Variables can be reassigned. This is convenient but dangerous with larger programs."
      ]
    },
    {
      "cell_type": "code",
      "metadata": {
        "colab": {
          "base_uri": "https://localhost:8080/"
        },
        "id": "IgVvqoqTvTLv",
        "outputId": "e0c9326d-4d92-479b-cdaf-1b57a585c9eb"
      },
      "source": [
        "s = \"Westminster Uni has a great selection of Options!\"\n",
        "print (s)\n",
        "s = 25\n",
        "print(s)"
      ],
      "execution_count": 13,
      "outputs": [
        {
          "output_type": "stream",
          "name": "stdout",
          "text": [
            "Westminster Uni has a great selection of Options!\n",
            "25\n"
          ]
        }
      ]
    },
    {
      "cell_type": "code",
      "metadata": {
        "colab": {
          "base_uri": "https://localhost:8080/"
        },
        "id": "EHVElz5wvUlF",
        "outputId": "23431f97-2aee-4321-d6fc-3dd74e6fa34e"
      },
      "source": [
        "s = 'Applied AI'\n",
        "print(s.find('AI'))\n",
        "help(s.find)"
      ],
      "execution_count": 14,
      "outputs": [
        {
          "output_type": "stream",
          "name": "stdout",
          "text": [
            "8\n",
            "Help on built-in function find:\n",
            "\n",
            "find(...) method of builtins.str instance\n",
            "    S.find(sub[, start[, end]]) -> int\n",
            "    \n",
            "    Return the lowest index in S where substring sub is found,\n",
            "    such that sub is contained within S[start:end].  Optional\n",
            "    arguments start and end are interpreted as in slice notation.\n",
            "    \n",
            "    Return -1 on failure.\n",
            "\n"
          ]
        }
      ]
    },
    {
      "cell_type": "markdown",
      "metadata": {
        "id": "sPIf1-HWvabq"
      },
      "source": [
        "### Dir and Help\n",
        "\n",
        "Dir lists all the members of an object. Help is a convenient way to lookup a method."
      ]
    },
    {
      "cell_type": "code",
      "metadata": {
        "colab": {
          "base_uri": "https://localhost:8080/"
        },
        "id": "9iC8Dq1kvfYF",
        "outputId": "5f921a89-fa89-4b7a-cbf7-a83bc0788a8e"
      },
      "source": [
        "s = 'ai'\n",
        "#try dir(s) and help() on any of the string methods.\n",
        "print(dir(s))\n",
        "help(s.lower)"
      ],
      "execution_count": 18,
      "outputs": [
        {
          "output_type": "stream",
          "name": "stdout",
          "text": [
            "['__add__', '__class__', '__contains__', '__delattr__', '__dir__', '__doc__', '__eq__', '__format__', '__ge__', '__getattribute__', '__getitem__', '__getnewargs__', '__gt__', '__hash__', '__init__', '__init_subclass__', '__iter__', '__le__', '__len__', '__lt__', '__mod__', '__mul__', '__ne__', '__new__', '__reduce__', '__reduce_ex__', '__repr__', '__rmod__', '__rmul__', '__setattr__', '__sizeof__', '__str__', '__subclasshook__', 'capitalize', 'casefold', 'center', 'count', 'encode', 'endswith', 'expandtabs', 'find', 'format', 'format_map', 'index', 'isalnum', 'isalpha', 'isascii', 'isdecimal', 'isdigit', 'isidentifier', 'islower', 'isnumeric', 'isprintable', 'isspace', 'istitle', 'isupper', 'join', 'ljust', 'lower', 'lstrip', 'maketrans', 'partition', 'replace', 'rfind', 'rindex', 'rjust', 'rpartition', 'rsplit', 'rstrip', 'split', 'splitlines', 'startswith', 'strip', 'swapcase', 'title', 'translate', 'upper', 'zfill']\n",
            "Help on built-in function lower:\n",
            "\n",
            "lower() method of builtins.str instance\n",
            "    Return a copy of the string converted to lowercase.\n",
            "\n"
          ]
        }
      ]
    },
    {
      "cell_type": "markdown",
      "metadata": {
        "id": "ABbXE46UvhsP"
      },
      "source": [
        "### Data Structures\n",
        "\n",
        "Lists, Tuples, Sets, Dictionaries\n",
        "\n",
        "Lists are a sequence of mutable items. Tuples Sets are Dictionaries"
      ]
    },
    {
      "cell_type": "code",
      "metadata": {
        "colab": {
          "base_uri": "https://localhost:8080/"
        },
        "id": "Jt5DYXV-vk_C",
        "outputId": "3a8dab51-52e1-4520-c6e4-7ce800f34a15"
      },
      "source": [
        "colours = ['red', 'orange', 'yellow', 'green', 'blue']\n",
        "print(colours[0])\n",
        "print(colours[-1]) # negative indexing\n",
        "colours[1] # returns the string at location 1\n",
        "colours[0] = 'purple'\n",
        "colours[0]\n",
        "\n",
        "print(dir(colours))"
      ],
      "execution_count": 19,
      "outputs": [
        {
          "output_type": "stream",
          "name": "stdout",
          "text": [
            "red\n",
            "blue\n",
            "['__add__', '__class__', '__contains__', '__delattr__', '__delitem__', '__dir__', '__doc__', '__eq__', '__format__', '__ge__', '__getattribute__', '__getitem__', '__gt__', '__hash__', '__iadd__', '__imul__', '__init__', '__init_subclass__', '__iter__', '__le__', '__len__', '__lt__', '__mul__', '__ne__', '__new__', '__reduce__', '__reduce_ex__', '__repr__', '__reversed__', '__rmul__', '__setattr__', '__setitem__', '__sizeof__', '__str__', '__subclasshook__', 'append', 'clear', 'copy', 'count', 'extend', 'index', 'insert', 'pop', 'remove', 'reverse', 'sort']\n"
          ]
        }
      ]
    },
    {
      "cell_type": "markdown",
      "metadata": {
        "id": "Mv-rSdedvmXy"
      },
      "source": [
        "Slice operator to index multiple elements."
      ]
    },
    {
      "cell_type": "code",
      "metadata": {
        "id": "NUA1L0w9vtoI"
      },
      "source": [
        "colours[2:4] #gets elements 2,3"
      ],
      "execution_count": null,
      "outputs": []
    },
    {
      "cell_type": "markdown",
      "metadata": {
        "id": "4CBunwb4wLuf"
      },
      "source": [
        "### Tuples\n",
        "\n",
        "Like a list but immutable once created. Uses '()' instead of '[]'"
      ]
    },
    {
      "cell_type": "code",
      "metadata": {
        "colab": {
          "base_uri": "https://localhost:8080/"
        },
        "id": "MNvH561fwPrx",
        "outputId": "4bb3db4a-7b90-4578-e193-2004c3fbbb7f"
      },
      "source": [
        "point = (2,3)\n",
        "x, y = point\n",
        "print(f'Point({x},{y})')\n",
        "# point[0] = 3 #This will not work!"
      ],
      "execution_count": 20,
      "outputs": [
        {
          "output_type": "stream",
          "name": "stdout",
          "text": [
            "Point(2,3)\n"
          ]
        }
      ]
    },
    {
      "cell_type": "markdown",
      "metadata": {
        "id": "QaF1oY2jwW8M"
      },
      "source": [
        "### Sets\n",
        "\n",
        "Also like a list, but unordered and does not allow duplicate items."
      ]
    },
    {
      "cell_type": "code",
      "metadata": {
        "colab": {
          "base_uri": "https://localhost:8080/"
        },
        "id": "njTkASTjwYcx",
        "outputId": "6b9c168e-6b3e-46c8-cebd-e7f19ad8999f"
      },
      "source": [
        "room1 = {'chair', 'table', 'spoon'}\n",
        "room2 = {'chair', 'bed', 'plate', 'spoon'}\n",
        "print(room1, room2)\n",
        "print('spoon' in room1) \n",
        "print(room1.intersection(room2))\n",
        "print(room1.union(room2))"
      ],
      "execution_count": 21,
      "outputs": [
        {
          "output_type": "stream",
          "name": "stdout",
          "text": [
            "{'chair', 'spoon', 'table'} {'plate', 'chair', 'bed', 'spoon'}\n",
            "True\n",
            "{'chair', 'spoon'}\n",
            "{'spoon', 'bed', 'plate', 'chair', 'table'}\n"
          ]
        }
      ]
    },
    {
      "cell_type": "markdown",
      "metadata": {
        "id": "elocQV7DwaoC"
      },
      "source": [
        "### Dictionaries\n",
        "\n",
        "A map of key value pairs. The key must be immutable (string, number, or tuple). Value can be any type."
      ]
    },
    {
      "cell_type": "code",
      "metadata": {
        "colab": {
          "base_uri": "https://localhost:8080/"
        },
        "id": "0LKg4nhswgvT",
        "outputId": "a92d695c-f627-4a0c-8052-16275c9b4f05"
      },
      "source": [
        "order = {'apples':5, 'oranges':3, 'lemons':2}\n",
        "print(order['oranges'])\n",
        "order['oranges'] += 5\n",
        "print(f\"I ordered {order['oranges']} oranges\")\n",
        "print(order.keys(), order.values())"
      ],
      "execution_count": 22,
      "outputs": [
        {
          "output_type": "stream",
          "name": "stdout",
          "text": [
            "3\n",
            "I ordered 8 oranges\n",
            "dict_keys(['apples', 'oranges', 'lemons']) dict_values([5, 8, 2])\n"
          ]
        }
      ]
    },
    {
      "cell_type": "markdown",
      "metadata": {
        "id": "gJS1lIPDwuBP"
      },
      "source": [
        "### Input"
      ]
    },
    {
      "cell_type": "code",
      "metadata": {
        "colab": {
          "base_uri": "https://localhost:8080/"
        },
        "id": "3npOJ4hXwwyN",
        "outputId": "e4931362-989b-4a5f-d7be-12f2007f5712"
      },
      "source": [
        "a = input(\"Enter your name: \")\n",
        "print(f\"Hello {a}\")"
      ],
      "execution_count": 23,
      "outputs": [
        {
          "output_type": "stream",
          "name": "stdout",
          "text": [
            "Enter your name: Dinuka\n",
            "Hello Dinuka\n"
          ]
        }
      ]
    },
    {
      "cell_type": "markdown",
      "metadata": {
        "id": "CB9MujtBwz_i"
      },
      "source": [
        "### Input from a file"
      ]
    },
    {
      "cell_type": "code",
      "metadata": {
        "colab": {
          "base_uri": "https://localhost:8080/"
        },
        "id": "jh76NuG-w1Fz",
        "outputId": "d0b480bf-20e2-4667-b5bd-e2b9f2608df2"
      },
      "source": [
        "f = open(\"temp.ipynb\", \"r\")\n",
        "print(f.read())"
      ],
      "execution_count": 45,
      "outputs": [
        {
          "output_type": "stream",
          "name": "stdout",
          "text": [
            "\n"
          ]
        }
      ]
    },
    {
      "cell_type": "markdown",
      "metadata": {
        "id": "4PxeANz8w8WI"
      },
      "source": [
        "### The range() function\n",
        "\n",
        "The range () function returns a sequence of numbers, starting from zero, increments by one, and ends at a specified number."
      ]
    },
    {
      "cell_type": "code",
      "metadata": {
        "colab": {
          "base_uri": "https://localhost:8080/"
        },
        "id": "Pm-0VxAiw6pr",
        "outputId": "5b8d7b06-700d-47c4-e405-8953c15d2038"
      },
      "source": [
        "for n in range(10):\n",
        "    print(n)"
      ],
      "execution_count": 25,
      "outputs": [
        {
          "output_type": "stream",
          "name": "stdout",
          "text": [
            "0\n",
            "1\n",
            "2\n",
            "3\n",
            "4\n",
            "5\n",
            "6\n",
            "7\n",
            "8\n",
            "9\n"
          ]
        }
      ]
    },
    {
      "cell_type": "code",
      "metadata": {
        "colab": {
          "base_uri": "https://localhost:8080/"
        },
        "id": "CWoyRSMdxCIJ",
        "outputId": "c8087fbb-2077-49f7-ac8f-baf0c426fa49"
      },
      "source": [
        "for n in range(3,10):\n",
        "    print(n)"
      ],
      "execution_count": 27,
      "outputs": [
        {
          "output_type": "stream",
          "name": "stdout",
          "text": [
            "3\n",
            "4\n",
            "5\n",
            "6\n",
            "7\n",
            "8\n",
            "9\n"
          ]
        }
      ]
    },
    {
      "cell_type": "code",
      "metadata": {
        "colab": {
          "base_uri": "https://localhost:8080/"
        },
        "id": "h9vd1cWXxEli",
        "outputId": "c1ac1bec-b937-46d1-cf9d-0643bccb5e8f"
      },
      "source": [
        "for n in range(3,10,2):\n",
        "    print(n)"
      ],
      "execution_count": 28,
      "outputs": [
        {
          "output_type": "stream",
          "name": "stdout",
          "text": [
            "3\n",
            "5\n",
            "7\n",
            "9\n"
          ]
        }
      ]
    },
    {
      "cell_type": "markdown",
      "metadata": {
        "id": "84NKn8nwxMAT"
      },
      "source": [
        "### List comprehensions\n",
        "\n",
        "List comprehensions are an elegant and readable way to create lists."
      ]
    },
    {
      "cell_type": "code",
      "metadata": {
        "colab": {
          "base_uri": "https://localhost:8080/"
        },
        "id": "f-LzzG23xPWr",
        "outputId": "b1932cd3-dbdd-4b99-da70-08a0b76d1ee4"
      },
      "source": [
        "evens = [x for x in range(10) if x%2 == 0]\n",
        "print(evens)"
      ],
      "execution_count": 29,
      "outputs": [
        {
          "output_type": "stream",
          "name": "stdout",
          "text": [
            "[0, 2, 4, 6, 8]\n"
          ]
        }
      ]
    },
    {
      "cell_type": "markdown",
      "metadata": {
        "id": "PHmCeZALxYOz"
      },
      "source": [
        "Exercise: Write a list comprehension that creates a list of the squares of the odd numbers."
      ]
    },
    {
      "cell_type": "code",
      "metadata": {
        "colab": {
          "base_uri": "https://localhost:8080/"
        },
        "id": "Nqv3ZwPjxY8W",
        "outputId": "342e2e9f-c968-4748-c891-2fd6079c5bfe"
      },
      "source": [
        "odds = [x for x in range(10) if x%2 != 0]\n",
        "print(odds)\n",
        "\n",
        "square_odd = [x**2 for x in range(10) if x%2 != 0]\n",
        "print(square_odd)"
      ],
      "execution_count": 33,
      "outputs": [
        {
          "output_type": "stream",
          "name": "stdout",
          "text": [
            "[1, 3, 5, 7, 9]\n",
            "[1, 9, 25, 49, 81]\n"
          ]
        }
      ]
    },
    {
      "cell_type": "markdown",
      "metadata": {
        "id": "MlW66TRvxuHY"
      },
      "source": [
        "### Classes and Objects"
      ]
    },
    {
      "cell_type": "code",
      "metadata": {
        "id": "x0Wqr5FVxvZP"
      },
      "source": [
        "class FruitShop:\n",
        "\n",
        "    def __init__(self, name, fruitPrices):\n",
        "        \"\"\"\n",
        "            name: Name of the fruit shop\n",
        "\n",
        "            fruitPrices: Dictionary with keys as fruit\n",
        "            strings and prices for values e.g.\n",
        "            {'apples': 2.00, 'oranges': 1.50, 'pears': 1.75}\n",
        "        \"\"\"\n",
        "        self.fruitPrices = fruitPrices\n",
        "        self.name = name\n",
        "        print('Welcome to %s fruit shop' % (name))\n",
        "\n",
        "    def getCostPerPound(self, fruit):\n",
        "        \"\"\"\n",
        "            fruit: Fruit string\n",
        "        Returns cost of 'fruit', assuming 'fruit'\n",
        "        is in our inventory or None otherwise\n",
        "        \"\"\"\n",
        "        if fruit not in self.fruitPrices:\n",
        "            return None\n",
        "        return self.fruitPrices[fruit]\n",
        "\n",
        "    def getPriceOfOrder(self, orderList):\n",
        "        \"\"\"\n",
        "            orderList: List of (fruit, numPounds) tuples\n",
        "\n",
        "        Returns cost of orderList, only including the values of\n",
        "        fruits that this fruit shop has.\n",
        "        \"\"\"\n",
        "        totalCost = 0.0\n",
        "        for fruit, numPounds in orderList:\n",
        "            costPerPound = self.getCostPerPound(fruit)\n",
        "            if costPerPound != None:\n",
        "                totalCost += numPounds * costPerPound\n",
        "        return totalCost\n",
        "\n",
        "    def getName(self):\n",
        "        return self.name"
      ],
      "execution_count": 34,
      "outputs": []
    },
    {
      "cell_type": "code",
      "metadata": {
        "colab": {
          "base_uri": "https://localhost:8080/"
        },
        "id": "NAPEjuh2xzFC",
        "outputId": "2f916363-a4f3-438a-9486-085260829912"
      },
      "source": [
        "shopName = 'the Berkeley Bowl'\n",
        "fruitPrices = {'apples': 1.00, 'oranges': 1.50, 'pears': 1.75}\n",
        "berkeleyShop = FruitShop(shopName, fruitPrices)\n",
        "applePrice = berkeleyShop.getCostPerPound('apples')\n",
        "print(applePrice)\n",
        "print('Apples cost $%.2f at %s.' % (applePrice, shopName))\n",
        "\n",
        "otherName = 'the Stanford Mall'\n",
        "otherFruitPrices = {'kiwis': 6.00, 'apples': 4.50, 'peaches': 8.75}\n",
        "otherFruitShop = FruitShop(otherName, otherFruitPrices)\n",
        "otherPrice = otherFruitShop.getCostPerPound('apples')\n",
        "print(otherPrice)\n",
        "print('Apples cost $%.2f at %s.' % (otherPrice, otherName))\n",
        "print(\"My, that's expensive!\")"
      ],
      "execution_count": 35,
      "outputs": [
        {
          "output_type": "stream",
          "name": "stdout",
          "text": [
            "Welcome to the Berkeley Bowl fruit shop\n",
            "1.0\n",
            "Apples cost $1.00 at the Berkeley Bowl.\n",
            "Welcome to the Stanford Mall fruit shop\n",
            "4.5\n",
            "Apples cost $4.50 at the Stanford Mall.\n",
            "My, that's expensive!\n"
          ]
        }
      ]
    },
    {
      "cell_type": "markdown",
      "metadata": {
        "id": "tSDBIkXUyDVR"
      },
      "source": [
        "### A taste of numpy\n",
        "NumPy is a fundamental package frequequntly used for scientific computing in Python."
      ]
    },
    {
      "cell_type": "code",
      "metadata": {
        "colab": {
          "base_uri": "https://localhost:8080/"
        },
        "id": "nB-ptqzCx51p",
        "outputId": "d675a336-a675-4261-d8c2-154c576b0393"
      },
      "source": [
        "import numpy as np\n",
        "\n",
        "a=np.arange(3)\n",
        "print(a)"
      ],
      "execution_count": 36,
      "outputs": [
        {
          "output_type": "stream",
          "name": "stdout",
          "text": [
            "[0 1 2]\n"
          ]
        }
      ]
    },
    {
      "cell_type": "code",
      "metadata": {
        "colab": {
          "base_uri": "https://localhost:8080/"
        },
        "id": "3c7g-QOoyIrs",
        "outputId": "a6012563-e523-41a5-fa08-9676dda923ef"
      },
      "source": [
        "c = np.arange(24).reshape(2, 3, 4) \n",
        "print(c)"
      ],
      "execution_count": 37,
      "outputs": [
        {
          "output_type": "stream",
          "name": "stdout",
          "text": [
            "[[[ 0  1  2  3]\n",
            "  [ 4  5  6  7]\n",
            "  [ 8  9 10 11]]\n",
            "\n",
            " [[12 13 14 15]\n",
            "  [16 17 18 19]\n",
            "  [20 21 22 23]]]\n"
          ]
        }
      ]
    },
    {
      "cell_type": "code",
      "metadata": {
        "colab": {
          "base_uri": "https://localhost:8080/"
        },
        "id": "fzPorEBjyJ5P",
        "outputId": "8a4aa1e8-8154-46d5-9230-1a9de45cc2ec"
      },
      "source": [
        "a**2\n",
        "# print(a**2)"
      ],
      "execution_count": 42,
      "outputs": [
        {
          "output_type": "execute_result",
          "data": {
            "text/plain": [
              "array([0, 1, 4])"
            ]
          },
          "metadata": {},
          "execution_count": 42
        }
      ]
    },
    {
      "cell_type": "code",
      "metadata": {
        "colab": {
          "base_uri": "https://localhost:8080/"
        },
        "id": "7f7BX2BfyLXO",
        "outputId": "9579c19d-4acb-4bed-aff8-15e1666ac615"
      },
      "source": [
        "c**2"
      ],
      "execution_count": 39,
      "outputs": [
        {
          "output_type": "execute_result",
          "data": {
            "text/plain": [
              "array([[[  0,   1,   4,   9],\n",
              "        [ 16,  25,  36,  49],\n",
              "        [ 64,  81, 100, 121]],\n",
              "\n",
              "       [[144, 169, 196, 225],\n",
              "        [256, 289, 324, 361],\n",
              "        [400, 441, 484, 529]]])"
            ]
          },
          "metadata": {},
          "execution_count": 39
        }
      ]
    }
  ]
}
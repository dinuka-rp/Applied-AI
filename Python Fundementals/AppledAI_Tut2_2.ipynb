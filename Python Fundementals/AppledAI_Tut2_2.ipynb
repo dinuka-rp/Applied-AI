{
  "nbformat": 4,
  "nbformat_minor": 0,
  "metadata": {
    "colab": {
      "name": "AppledAI-Tut2-2.ipynb",
      "provenance": [],
      "collapsed_sections": [],
      "authorship_tag": "ABX9TyNSslbgR1Uh76DClhpnv/si",
      "include_colab_link": true
    },
    "kernelspec": {
      "name": "python3",
      "display_name": "Python 3"
    },
    "language_info": {
      "name": "python"
    }
  },
  "cells": [
    {
      "cell_type": "markdown",
      "metadata": {
        "id": "view-in-github",
        "colab_type": "text"
      },
      "source": [
        "<a href=\"https://colab.research.google.com/github/dinuka-rp/Applied-AI/blob/main/Python%20Fundementals/AppledAI_Tut2_2.ipynb\" target=\"_parent\"><img src=\"https://colab.research.google.com/assets/colab-badge.svg\" alt=\"Open In Colab\"/></a>"
      ]
    },
    {
      "cell_type": "markdown",
      "metadata": {
        "id": "TWJ_EHXa4hyI"
      },
      "source": [
        "# Write a program that reads in a text file and prints out the word frequencies."
      ]
    },
    {
      "cell_type": "markdown",
      "metadata": {
        "id": "zaGK6S6xzuW7"
      },
      "source": [
        "**Input text:** “The rain fell on the car. The rain fell on the ground.”\n",
        "\n",
        "**Output:** the-3, rain-2, fell-2, on-2, car-1, ground-1\n"
      ]
    },
    {
      "cell_type": "markdown",
      "metadata": {
        "id": "6jV_C-jS3ulU"
      },
      "source": [
        "Read text"
      ]
    },
    {
      "cell_type": "code",
      "metadata": {
        "id": "XFpE-14xztWl"
      },
      "source": [
        "f = open(\"text.txt\", \"r\")   # open file in read only mode\n",
        "# print(f.read())\n",
        "\n",
        "string = f.read()"
      ],
      "execution_count": 87,
      "outputs": []
    },
    {
      "cell_type": "markdown",
      "metadata": {
        "id": "so6DdRkC3nzH"
      },
      "source": [
        "Converting the sentence to lower case (same case)"
      ]
    },
    {
      "cell_type": "code",
      "metadata": {
        "id": "mZAfeLiy3sMP"
      },
      "source": [
        "same_case_string = string.lower()\n"
      ],
      "execution_count": 88,
      "outputs": []
    },
    {
      "cell_type": "markdown",
      "metadata": {
        "id": "8p1zG_GZ3w7S"
      },
      "source": [
        "split sentence into words in an array"
      ]
    },
    {
      "cell_type": "code",
      "metadata": {
        "colab": {
          "base_uri": "https://localhost:8080/"
        },
        "id": "1GDj1Sqf317i",
        "outputId": "46c9aec5-bcb3-46f0-a5c7-50e78732bd52"
      },
      "source": [
        "strArray = same_case_string.split()\n",
        "\n",
        "print(strArray)"
      ],
      "execution_count": 89,
      "outputs": [
        {
          "output_type": "stream",
          "name": "stdout",
          "text": [
            "['the', 'rain', 'fell', 'on', 'the', 'car.', 'the', 'rain', 'fell', 'on', 'the', 'ground.']\n"
          ]
        }
      ]
    },
    {
      "cell_type": "code",
      "metadata": {
        "colab": {
          "base_uri": "https://localhost:8080/"
        },
        "id": "7sl8LOGZ08wV",
        "outputId": "0325a4c1-cf95-4c4f-f5e5-6dd5e58ce84c"
      },
      "source": [
        "# for i in range(0, len(strArray)):\n",
        "\n",
        "# gives set of unique words\n",
        "unique_words = set(strArray)\n",
        "\n",
        "print(unique_words)"
      ],
      "execution_count": 90,
      "outputs": [
        {
          "output_type": "stream",
          "name": "stdout",
          "text": [
            "{'the', 'ground.', 'on', 'car.', 'rain', 'fell'}\n"
          ]
        }
      ]
    },
    {
      "cell_type": "code",
      "metadata": {
        "colab": {
          "base_uri": "https://localhost:8080/"
        },
        "id": "BKS-TGEh2WuF",
        "outputId": "2e4067a9-cef9-4cba-bd83-1be3864e037b"
      },
      "source": [
        "for word in unique_words:\n",
        "  print(word,\": \", same_case_string.count(word))"
      ],
      "execution_count": 91,
      "outputs": [
        {
          "output_type": "stream",
          "name": "stdout",
          "text": [
            "the :  4\n",
            "ground. :  1\n",
            "on :  2\n",
            "car. :  1\n",
            "rain :  2\n",
            "fell :  2\n"
          ]
        }
      ]
    },
    {
      "cell_type": "markdown",
      "metadata": {
        "id": "1yg9nF8b4n3G"
      },
      "source": [
        "# Find the root, Solve the Algorithm"
      ]
    },
    {
      "cell_type": "markdown",
      "metadata": {
        "id": "e4fl28eS5uaS"
      },
      "source": [
        ""
      ]
    },
    {
      "cell_type": "code",
      "metadata": {
        "colab": {
          "base_uri": "https://localhost:8080/"
        },
        "id": "Oxolr1SH5vCI",
        "outputId": "87e548d2-3114-4f30-cb4c-086cbad80ba4"
      },
      "source": [
        "input_A = input(\"Enter A: \")\n",
        "input_B = input(\"Enter B: \")\n",
        "input_C = input(\"Enter C: \")\n",
        "\n",
        "A = int(input_A)\n",
        "B = int(input_B)\n",
        "C = int(input_C)\n",
        "\n",
        "print(\"A, B, C =\", A, B, C)"
      ],
      "execution_count": 92,
      "outputs": [
        {
          "output_type": "stream",
          "name": "stdout",
          "text": [
            "Enter A: 2\n",
            "Enter B: 3\n",
            "Enter C: 4\n",
            "A, B, C = 2 3 4\n"
          ]
        }
      ]
    },
    {
      "cell_type": "code",
      "metadata": {
        "colab": {
          "base_uri": "https://localhost:8080/"
        },
        "id": "mOxrZHFo6AiS",
        "outputId": "8159c351-4f95-4fae-d7d3-85050555273d"
      },
      "source": [
        "D = (B**2) - (4**A**C)\n",
        "\n",
        "print(\"D = \", D)"
      ],
      "execution_count": 93,
      "outputs": [
        {
          "output_type": "stream",
          "name": "stdout",
          "text": [
            "D =  -4294967287\n"
          ]
        }
      ]
    },
    {
      "cell_type": "code",
      "metadata": {
        "colab": {
          "base_uri": "https://localhost:8080/"
        },
        "id": "clHq19Q26ePr",
        "outputId": "63f330d1-a027-404b-a522-806ce21bdf4d"
      },
      "source": [
        "if D<0:\n",
        "  print(\"No real roots\")\n",
        "elif D == 0:\n",
        "  print(\"One root\")\n",
        "  print(-B/2**A)\n",
        "elif D>0:\n",
        "  print(\"Two roots\", (-B+sqrt+(D)/2**A) , (-B+sqrt-(D)/2**A))"
      ],
      "execution_count": 94,
      "outputs": [
        {
          "output_type": "stream",
          "name": "stdout",
          "text": [
            "No real roots\n"
          ]
        }
      ]
    },
    {
      "cell_type": "markdown",
      "metadata": {
        "id": "Onw9kiFt9e7W"
      },
      "source": [
        "[Have a look at this matplotlib notebook for an example of how well a notebook can serve as a means\n",
        "of disseminating scientific information.\n",
        "](https://nbviewer.jupyter.org/github/jrjohansson/scientific-python-lectures/blob/master/Lecture-4-Matplotlib.ipynb)\n"
      ]
    },
    {
      "cell_type": "markdown",
      "metadata": {
        "id": "0uueBT48-sYs"
      },
      "source": [
        "[High-level API for matplotlib](https://seaborn.pydata.org/)"
      ]
    }
  ]
}
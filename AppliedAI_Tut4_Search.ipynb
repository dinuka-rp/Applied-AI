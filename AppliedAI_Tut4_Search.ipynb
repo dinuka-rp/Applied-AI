{
  "nbformat": 4,
  "nbformat_minor": 0,
  "metadata": {
    "kernelspec": {
      "display_name": "Python 3 (ipykernel)",
      "language": "python",
      "name": "python3"
    },
    "language_info": {
      "codemirror_mode": {
        "name": "ipython",
        "version": 3
      },
      "file_extension": ".py",
      "mimetype": "text/x-python",
      "name": "python",
      "nbconvert_exporter": "python",
      "pygments_lexer": "ipython3",
      "version": "3.7.11"
    },
    "name": "search4e.ipynb",
    "colab": {
      "name": "AppliedAI-Tut4-Search.ipynb",
      "provenance": [],
      "include_colab_link": true
    }
  },
  "cells": [
    {
      "cell_type": "markdown",
      "metadata": {
        "id": "view-in-github",
        "colab_type": "text"
      },
      "source": [
        "<a href=\"https://colab.research.google.com/github/dinuka-rp/Applied-AI/blob/main/AppliedAI_Tut4_Search.ipynb\" target=\"_parent\"><img src=\"https://colab.research.google.com/assets/colab-badge.svg\" alt=\"Open In Colab\"/></a>"
      ]
    },
    {
      "cell_type": "markdown",
      "metadata": {
        "id": "T_WI-gCD7xM3"
      },
      "source": [
        "# Tutorial Week 4 - Search.\n",
        "\n",
        "This is a simplified notebook of the search.ipynb file. Use it to explore and compare BFS, DFS, and A* on similar problems.\n",
        "As before, explore the source code by placing print statements in key methods and run the provided example code.\n",
        "\n",
        "\n",
        "\n",
        "# Problems and Nodes\n",
        "\n",
        "We start by defining the abstract class for a `Problem`; specific problem domains will subclass this. To make it easier for algorithms that use a heuristic evaluation function, `Problem` has a default `h` function (uniformly zero), and subclasses can define their own default `h` function.\n",
        "\n",
        "We also define a `Node` in a search tree, and some functions on nodes: `expand` to generate successors; `path_actions` and `path_states`  to recover aspects of the path from the node.  "
      ]
    },
    {
      "cell_type": "code",
      "metadata": {
        "id": "HXEu72Jw8D7H"
      },
      "source": [
        ""
      ],
      "execution_count": null,
      "outputs": []
    },
    {
      "cell_type": "code",
      "metadata": {
        "id": "4bcZUq0-7xM8"
      },
      "source": [
        "%matplotlib inline\n",
        "import matplotlib.pyplot as plt\n",
        "import random\n",
        "import heapq\n",
        "import math\n",
        "import sys\n",
        "from collections import defaultdict, deque, Counter\n",
        "from itertools import combinations\n",
        "\n",
        "\n",
        "class Problem(object):\n",
        "    \"\"\"The abstract class for a formal problem. A new domain subclasses this,\n",
        "    overriding `actions` and `results`, and perhaps other methods.\n",
        "    The default heuristic is 0 and the default action cost is 1 for all states.\n",
        "    When yiou create an instance of a subclass, specify `initial`, and `goal` states \n",
        "    (or give an `is_goal` method) and perhaps other keyword args for the subclass.\"\"\"\n",
        "\n",
        "    def __init__(self, initial=None, goal=None, **kwds): \n",
        "        self.__dict__.update(initial=initial, goal=goal, **kwds) \n",
        "        \n",
        "    def actions(self, state):        raise NotImplementedError\n",
        "    def result(self, state, action): raise NotImplementedError\n",
        "    def is_goal(self, state):        return state == self.goal\n",
        "    def action_cost(self, s, a, s1): return 1\n",
        "    def h(self, node):               return 0\n",
        "    \n",
        "    def __str__(self):\n",
        "        return '{}({!r}, {!r})'.format(\n",
        "            type(self).__name__, self.initial, self.goal)\n",
        "    \n",
        "\n",
        "class Node:\n",
        "    \"A Node in a search tree.\"\n",
        "    def __init__(self, state, parent=None, action=None, path_cost=0):\n",
        "        self.__dict__.update(state=state, parent=parent, action=action, path_cost=path_cost)\n",
        "\n",
        "    def __repr__(self): return '<{}>'.format(self.state)\n",
        "    def __len__(self): return 0 if self.parent is None else (1 + len(self.parent))\n",
        "    def __lt__(self, other): return self.path_cost < other.path_cost\n",
        "    \n",
        "    \n",
        "failure = Node('failure', path_cost=math.inf) # Indicates an algorithm couldn't find a solution.\n",
        "cutoff  = Node('cutoff',  path_cost=math.inf) # Indicates iterative deepening search was cut off.\n",
        "    \n",
        "    \n",
        "def expand(problem, node):\n",
        "    \"Expand a node, generating the children nodes.\"\n",
        "    s = node.state\n",
        "    for action in problem.actions(s):\n",
        "        s1 = problem.result(s, action)\n",
        "        cost = node.path_cost + problem.action_cost(s, action, s1)\n",
        "        yield Node(s1, node, action, cost)\n",
        "        \n",
        "\n",
        "def path_actions(node):\n",
        "    \"The sequence of actions to get to this node.\"\n",
        "    if node.parent is None:\n",
        "        return []  \n",
        "    return path_actions(node.parent) + [node.action]\n",
        "\n",
        "\n",
        "def path_states(node):\n",
        "    \"The sequence of states to get to this node.\"\n",
        "    if node in (cutoff, failure, None): \n",
        "        return []\n",
        "    return path_states(node.parent) + [node.state]"
      ],
      "execution_count": 1,
      "outputs": []
    },
    {
      "cell_type": "markdown",
      "metadata": {
        "id": "faE5JxWY7xM9"
      },
      "source": [
        "# Queues\n",
        "\n",
        "First-in-first-out and Last-in-first-out queues, and a `PriorityQueue`, which allows you to keep a collection of items, and continually remove from it the item with minimum `f(item)` score."
      ]
    },
    {
      "cell_type": "code",
      "metadata": {
        "id": "U8jg5bZY7xM-"
      },
      "source": [
        "FIFOQueue = deque\n",
        "\n",
        "LIFOQueue = list\n",
        "\n",
        "class PriorityQueue:\n",
        "    \"\"\"A queue in which the item with minimum f(item) is always popped first.\"\"\"\n",
        "\n",
        "    def __init__(self, items=(), key=lambda x: x): \n",
        "        self.key = key\n",
        "        self.items = [] # a heap of (score, item) pairs\n",
        "        for item in items:\n",
        "            self.add(item)\n",
        "         \n",
        "    def add(self, item):\n",
        "        \"\"\"Add item to the queuez.\"\"\"\n",
        "        pair = (self.key(item), item)\n",
        "        heapq.heappush(self.items, pair)\n",
        "\n",
        "    def pop(self):\n",
        "        \"\"\"Pop and return the item with min f(item) value.\"\"\"\n",
        "        return heapq.heappop(self.items)[1]\n",
        "    \n",
        "    def top(self): return self.items[0][1]\n",
        "\n",
        "    def __len__(self): return len(self.items)"
      ],
      "execution_count": 2,
      "outputs": []
    },
    {
      "cell_type": "markdown",
      "metadata": {
        "id": "89D0uIwR7xM-"
      },
      "source": [
        "# Breadth First and Depth First Search Algorithms\n",
        "\n",
        "Recall our discussion of breadth-first and depth-first search from lecture 2.\n"
      ]
    },
    {
      "cell_type": "code",
      "metadata": {
        "id": "vzEj78g27xM_"
      },
      "source": [
        "def breadth_first_search(problem):\n",
        "    \"Search shallowest nodes in the search tree first.\"\n",
        "    node = Node(problem.initial)\n",
        "    if problem.is_goal(problem.initial):\n",
        "        return node\n",
        "    frontier = FIFOQueue([node])\n",
        "    reached = {problem.initial}\n",
        "    while frontier:\n",
        "        print(frontier)\n",
        "        node = frontier.pop()\n",
        "        for child in expand(problem, node):\n",
        "            s = child.state\n",
        "            if problem.is_goal(s):\n",
        "                return child\n",
        "            if s not in reached:\n",
        "                reached.add(s)\n",
        "                frontier.appendleft(child)\n",
        "    return failure\n",
        "\n",
        "\n",
        "def depth_limited_search(problem, limit=10):\n",
        "    \"Search deepest nodes in the search tree first.\"\n",
        "    frontier = LIFOQueue([Node(problem.initial)])\n",
        "    result = failure\n",
        "    while frontier:\n",
        "        node = frontier.pop()\n",
        "        if problem.is_goal(node.state):\n",
        "            return node\n",
        "        elif len(node) >= limit:\n",
        "            result = cutoff\n",
        "        elif not is_cycle(node):\n",
        "            for child in expand(problem, node):\n",
        "                frontier.append(child)\n",
        "    return result\n",
        "\n",
        "\n",
        "def depth_first_recursive_search(problem, node=None):\n",
        "    if node is None: \n",
        "        node = Node(problem.initial)\n",
        "    if problem.is_goal(node.state):\n",
        "        return node\n",
        "    elif is_cycle(node):\n",
        "        return failure\n",
        "    else:\n",
        "        for child in expand(problem, node):\n",
        "            result = depth_first_recursive_search(problem, child)\n",
        "            if result:\n",
        "                return result\n",
        "        return failure\n",
        "    \n",
        "\n",
        "def is_cycle(node, k=30):\n",
        "    \"Does this node form a cycle of length k or less?\"\n",
        "    def find_cycle(ancestor, k):\n",
        "        return (ancestor is not None and k > 0 and\n",
        "                (ancestor.state == node.state or find_cycle(ancestor.parent, k - 1)))\n",
        "    return find_cycle(node.parent, k)"
      ],
      "execution_count": 10,
      "outputs": []
    },
    {
      "cell_type": "markdown",
      "metadata": {
        "id": "dwg3G8t97xM_"
      },
      "source": [
        "# Problem Domains\n",
        "\n",
        "Now we turn our attention to defining some problem domains as subclasses of `Problem`."
      ]
    },
    {
      "cell_type": "markdown",
      "metadata": {
        "id": "ot09Xz_o7xNA"
      },
      "source": [
        "# Route Finding Problems\n",
        "\n",
        "![](../images/romania_nodes.png)\n",
        "\n",
        "In a `RouteProblem`, the states are names of \"cities\" (or other locations), like `'A'` for Arad. The actions are also city names; `'Z'` is the action to move to city `'Z'`. The layout of cities is given by a separate data structure, a `Map`, which is a graph where there are vertexes (cities), links between vertexes, distances (costs) of those links (if not specified, the default is 1 for every link), and optionally the 2D (x, y) location of each city can be specified. A `RouteProblem` takes this `Map` as input and allows actions to move between linked cities. The default heuristic is straight-line distance to the goal, or is uniformly zero if locations were not given."
      ]
    },
    {
      "cell_type": "code",
      "metadata": {
        "id": "RBoaHcTo7xNA"
      },
      "source": [
        "class RouteProblem(Problem):\n",
        "    \"\"\"A problem to find a route between locations on a `Map`.\n",
        "    Create a problem with RouteProblem(start, goal, map=Map(...)}).\n",
        "    States are the vertexes in the Map graph; actions are destination states.\"\"\"\n",
        "    \n",
        "    def actions(self, state): \n",
        "        \"\"\"The places neighboring `state`.\"\"\"\n",
        "        return self.map.neighbors[state]\n",
        "    \n",
        "    def result(self, state, action):\n",
        "        \"\"\"Go to the `action` place, if the map says that is possible.\"\"\"\n",
        "        return action if action in self.map.neighbors[state] else state\n",
        "    \n",
        "    def action_cost(self, s, action, s1):\n",
        "        \"\"\"The distance (cost) to go from s to s1.\"\"\"\n",
        "        return self.map.distances[s, s1]\n",
        "    \n",
        "    def h(self, node):\n",
        "        \"Straight-line distance between state and the goal.\"\n",
        "        locs = self.map.locations\n",
        "        return straight_line_distance(locs[node.state], locs[self.goal])\n",
        "    \n",
        "    \n",
        "def straight_line_distance(A, B):\n",
        "    \"Straight-line distance between two points.\"\n",
        "    return sum(abs(a - b)**2 for (a, b) in zip(A, B)) ** 0.5"
      ],
      "execution_count": 11,
      "outputs": []
    },
    {
      "cell_type": "code",
      "metadata": {
        "id": "VA75eAL_7xNB"
      },
      "source": [
        "class Map:\n",
        "    \"\"\"A map of places in a 2D world: a graph with vertexes and links between them. \n",
        "    In `Map(links, locations)`, `links` can be either [(v1, v2)...] pairs, \n",
        "    or a {(v1, v2): distance...} dict. Optional `locations` can be {v1: (x, y)} \n",
        "    If `directed=False` then for every (v1, v2) link, we add a (v2, v1) link.\"\"\"\n",
        "\n",
        "    def __init__(self, links, locations=None, directed=False):\n",
        "        if not hasattr(links, 'items'): # Distances are 1 by default\n",
        "            links = {link: 1 for link in links}\n",
        "        if not directed:\n",
        "            for (v1, v2) in list(links):\n",
        "                links[v2, v1] = links[v1, v2]\n",
        "        self.distances = links\n",
        "        self.neighbors = multimap(links)\n",
        "        self.locations = locations or defaultdict(lambda: (0, 0))\n",
        "\n",
        "        \n",
        "def multimap(pairs) -> dict:\n",
        "    \"Given (key, val) pairs, make a dict of {key: [val,...]}.\"\n",
        "    result = defaultdict(list)\n",
        "    for key, val in pairs:\n",
        "        result[key].append(val)\n",
        "    return result"
      ],
      "execution_count": 12,
      "outputs": []
    },
    {
      "cell_type": "code",
      "metadata": {
        "id": "mtTUzyUI7xNC"
      },
      "source": [
        "# Some specific RouteProblems\n",
        "\n",
        "romania = Map(\n",
        "    {('O', 'Z'):  71, ('O', 'S'): 151, ('A', 'Z'): 75, ('A', 'S'): 140, ('A', 'T'): 118, \n",
        "     ('L', 'T'): 111, ('L', 'M'):  70, ('D', 'M'): 75, ('C', 'D'): 120, ('C', 'R'): 146, \n",
        "     ('C', 'P'): 138, ('R', 'S'):  80, ('F', 'S'): 99, ('B', 'F'): 211, ('B', 'P'): 101, \n",
        "     ('B', 'G'):  90, ('B', 'U'):  85, ('H', 'U'): 98, ('E', 'H'):  86, ('U', 'V'): 142, \n",
        "     ('I', 'V'):  92, ('I', 'N'):  87, ('P', 'R'): 97},\n",
        "    {'A': ( 76, 497), 'B': (400, 327), 'C': (246, 285), 'D': (160, 296), 'E': (558, 294), \n",
        "     'F': (285, 460), 'G': (368, 257), 'H': (548, 355), 'I': (488, 535), 'L': (162, 379),\n",
        "     'M': (160, 343), 'N': (407, 561), 'O': (117, 580), 'P': (311, 372), 'R': (227, 412),\n",
        "     'S': (187, 463), 'T': ( 83, 414), 'U': (471, 363), 'V': (535, 473), 'Z': (92, 539)})\n",
        "\n",
        "\n",
        "r0 = RouteProblem('A', 'A', map=romania)\n",
        "r1 = RouteProblem('A', 'B', map=romania)\n",
        "r2 = RouteProblem('N', 'L', map=romania)\n",
        "r3 = RouteProblem('E', 'T', map=romania)\n",
        "r4 = RouteProblem('O', 'M', map=romania)"
      ],
      "execution_count": 13,
      "outputs": []
    },
    {
      "cell_type": "markdown",
      "metadata": {
        "id": "utIdYZ9R7xNC"
      },
      "source": [
        "**Using paper, draw search trees for each of the routes (r0 0 r4) using DFS and BFS. \n",
        "Check your understanding by checking each route similar to the examples below.**"
      ]
    },
    {
      "cell_type": "code",
      "metadata": {
        "id": "rTefOCSx7xNC",
        "colab": {
          "base_uri": "https://localhost:8080/"
        },
        "outputId": "0bb77a28-96f5-492a-da60-0c6e47e3a546"
      },
      "source": [
        "path_states(breadth_first_search(r1)) # Breadth-first: fewer steps, higher path cost"
      ],
      "execution_count": 15,
      "outputs": [
        {
          "output_type": "stream",
          "name": "stdout",
          "text": [
            "deque([<A>])\n",
            "deque([<T>, <S>, <Z>])\n",
            "deque([<O>, <T>, <S>])\n",
            "deque([<F>, <R>, <O>, <T>])\n",
            "deque([<L>, <F>, <R>, <O>])\n",
            "deque([<L>, <F>, <R>])\n",
            "deque([<P>, <C>, <L>, <F>])\n"
          ]
        },
        {
          "output_type": "execute_result",
          "data": {
            "text/plain": [
              "['A', 'S', 'F', 'B']"
            ]
          },
          "metadata": {},
          "execution_count": 15
        }
      ]
    },
    {
      "cell_type": "code",
      "metadata": {
        "id": "yrMal2oH7xNC",
        "colab": {
          "base_uri": "https://localhost:8080/"
        },
        "outputId": "dadbd0e1-632d-48eb-9986-4c079add44e2"
      },
      "source": [
        "path_states(depth_first_recursive_search(r1))"
      ],
      "execution_count": 16,
      "outputs": [
        {
          "output_type": "execute_result",
          "data": {
            "text/plain": [
              "['A', 'Z', 'O', 'S', 'R', 'C', 'P', 'B']"
            ]
          },
          "metadata": {},
          "execution_count": 16
        }
      ]
    },
    {
      "cell_type": "code",
      "metadata": {
        "colab": {
          "base_uri": "https://localhost:8080/"
        },
        "id": "m4N0eL9dElxN",
        "outputId": "127a4a35-8c44-4bd5-fca8-aa6be24f7a0d"
      },
      "source": [
        "path_states(depth_limited_search(r1))"
      ],
      "execution_count": 18,
      "outputs": [
        {
          "output_type": "execute_result",
          "data": {
            "text/plain": [
              "['A', 'T', 'L', 'M', 'D', 'C', 'P', 'B']"
            ]
          },
          "metadata": {},
          "execution_count": 18
        }
      ]
    },
    {
      "cell_type": "markdown",
      "metadata": {
        "id": "M8rhhYkY7xNE"
      },
      "source": [
        "**What are the strengths and weaknesses of each algorithm?**"
      ]
    },
    {
      "cell_type": "markdown",
      "metadata": {
        "id": "W-_8xIx97xNE"
      },
      "source": [
        "\n",
        "**Compare to the the A* Algorithm. Draw a search tree using A* for at least on of the paths (say r1). Then use the code provided below to call the A* algorithm for each route.** "
      ]
    },
    {
      "cell_type": "markdown",
      "metadata": {
        "id": "Xwr-wkoj7xNE"
      },
      "source": [
        "# Search Algorithms: Best-First\n",
        "\n",
        "Best-first search with various *f(n)* functions gives us different search algorithms. Note that A\\*, weighted A\\* and greedy search can be given a heuristic function, `h`, but if `h` is not supplied they use the problem's default `h` function (if the problem does not define one, it is taken as *h(n)* = 0)."
      ]
    },
    {
      "cell_type": "code",
      "metadata": {
        "id": "P2RfsblK7xNE"
      },
      "source": [
        "def best_first_search(problem, f):\n",
        "    \"Search nodes with minimum f(node) value first.\"\n",
        "    node = Node(problem.initial)\n",
        "    frontier = PriorityQueue([node], key=f)\n",
        "    reached = {problem.initial: node}\n",
        "    while frontier:\n",
        "        node = frontier.pop()\n",
        "        if problem.is_goal(node.state):\n",
        "            return node\n",
        "        for child in expand(problem, node):\n",
        "            s = child.state\n",
        "            if s not in reached or child.path_cost < reached[s].path_cost:\n",
        "                reached[s] = child\n",
        "                frontier.add(child)\n",
        "    return failure\n",
        "\n",
        "\n",
        "def best_first_tree_search(problem, f):\n",
        "    \"A version of best_first_search without the `reached` table.\"\n",
        "    frontier = PriorityQueue([Node(problem.initial)], key=f)\n",
        "    while frontier:\n",
        "        node = frontier.pop()\n",
        "        if problem.is_goal(node.state):\n",
        "            return node\n",
        "        for child in expand(problem, node):\n",
        "            if not is_cycle(child):\n",
        "                frontier.add(child)\n",
        "    return failure\n",
        "\n",
        "\n",
        "def g(n): return n.path_cost\n",
        "\n",
        "\n",
        "def astar_search(problem, h=None):\n",
        "    \"\"\"Search nodes with minimum f(n) = g(n) + h(n).\"\"\"\n",
        "    h = h or problem.h\n",
        "    return best_first_search(problem, f=lambda n: g(n) + h(n))\n",
        "\n",
        "\n",
        "def astar_tree_search(problem, h=None):\n",
        "    \"\"\"Search nodes with minimum f(n) = g(n) + h(n), with no `reached` table.\"\"\"\n",
        "    h = h or problem.h\n",
        "    return best_first_tree_search(problem, f=lambda n: g(n) + h(n))\n",
        "\n",
        "\n",
        "def weighted_astar_search(problem, h=None, weight=1.4):\n",
        "    \"\"\"Search nodes with minimum f(n) = g(n) + weight * h(n).\"\"\"\n",
        "    h = h or problem.h\n",
        "    return best_first_search(problem, f=lambda n: g(n) + weight * h(n))\n",
        "\n",
        "        \n",
        "def greedy_bfs(problem, h=None):\n",
        "    \"\"\"Search nodes with minimum h(n).\"\"\"\n",
        "    h = h or problem.h\n",
        "    return best_first_search(problem, f=h)\n",
        "\n",
        "\n",
        "def uniform_cost_search(problem):\n",
        "    \"Search nodes with minimum path cost first.\"\n",
        "    return best_first_search(problem, f=g)\n",
        "\n",
        "\n",
        "def breadth_first_bfs(problem):\n",
        "    \"Search shallowest nodes in the search tree first; using best-first.\"\n",
        "    return best_first_search(problem, f=len)\n",
        "\n",
        "\n",
        "def depth_first_bfs(problem):\n",
        "    \"Search deepest nodes in the search tree first; using best-first.\"\n",
        "    return best_first_search(problem, f=lambda n: -len(n))\n",
        "\n",
        "\n",
        "def is_cycle(node, k=30):\n",
        "    \"Does this node form a cycle of length k or less?\"\n",
        "    def find_cycle(ancestor, k):\n",
        "        return (ancestor is not None and k > 0 and\n",
        "                (ancestor.state == node.state or find_cycle(ancestor.parent, k - 1)))\n",
        "    return find_cycle(node.parent, k)\n",
        "\n"
      ],
      "execution_count": 9,
      "outputs": []
    },
    {
      "cell_type": "markdown",
      "metadata": {
        "id": "cU_zP6o77xNF"
      },
      "source": [
        "**Similarly to what you did with BFS and DFS above, call the A* algorithm on each of the routes (r1-r4) and compare the results to BFS and DFS.**"
      ]
    },
    {
      "cell_type": "code",
      "metadata": {
        "id": "qOEIyKjS7xNF",
        "colab": {
          "base_uri": "https://localhost:8080/"
        },
        "outputId": "b55628b9-bae5-4ddf-c6f2-15367b4ff2dd"
      },
      "source": [
        "path_states(best_first_search(r1,r1.h))"
      ],
      "execution_count": 19,
      "outputs": [
        {
          "output_type": "execute_result",
          "data": {
            "text/plain": [
              "['A', 'S', 'F', 'B']"
            ]
          },
          "metadata": {},
          "execution_count": 19
        }
      ]
    },
    {
      "cell_type": "code",
      "metadata": {
        "colab": {
          "base_uri": "https://localhost:8080/"
        },
        "id": "pGruu24ZHjER",
        "outputId": "a93ce66a-6e7c-4538-c56c-552e87937384"
      },
      "source": [
        "path_states(astar_search(r1,r1.h))"
      ],
      "execution_count": 20,
      "outputs": [
        {
          "output_type": "execute_result",
          "data": {
            "text/plain": [
              "['A', 'S', 'R', 'P', 'B']"
            ]
          },
          "metadata": {},
          "execution_count": 20
        }
      ]
    }
  ]
}
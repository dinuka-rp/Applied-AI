{
  "nbformat": 4,
  "nbformat_minor": 5,
  "metadata": {
    "kernelspec": {
      "display_name": "Python 3 (ipykernel)",
      "language": "python",
      "name": "python3"
    },
    "language_info": {
      "codemirror_mode": {
        "name": "ipython",
        "version": 3
      },
      "file_extension": ".py",
      "mimetype": "text/x-python",
      "name": "python",
      "nbconvert_exporter": "python",
      "pygments_lexer": "ipython3",
      "version": "3.7.11"
    },
    "colab": {
      "name": "Tut5search.ipynb",
      "provenance": [],
      "include_colab_link": true
    }
  },
  "cells": [
    {
      "cell_type": "markdown",
      "metadata": {
        "id": "view-in-github",
        "colab_type": "text"
      },
      "source": [
        "<a href=\"https://colab.research.google.com/github/dinuka-rp/Applied-AI/blob/main/Tut5-GameTreeSearch.ipynb\" target=\"_parent\"><img src=\"https://colab.research.google.com/assets/colab-badge.svg\" alt=\"Open In Colab\"/></a>"
      ]
    },
    {
      "cell_type": "markdown",
      "metadata": {
        "id": "5624f307"
      },
      "source": [
        "# Tutorial Week 5 -  Game Tree Search\n",
        "\n",
        "We start with defining the abstract class `Game`, for turn-taking *n*-player games. \n",
        "\n",
        "We also define `play_game`, which takes a game and a dictionary of  `{player_name: strategy_function}` pairs, and plays out the game, on each turn checking `state.to_move` to see whose turn it is, and then getting the strategy function for that player and applying it to the game and the state to get a move."
      ],
      "id": "5624f307"
    },
    {
      "cell_type": "code",
      "metadata": {
        "id": "4499ddbb"
      },
      "source": [
        "from collections import namedtuple, Counter, defaultdict\n",
        "import random\n",
        "import math\n",
        "import functools \n",
        "cache = functools.lru_cache(10**6)"
      ],
      "id": "4499ddbb",
      "execution_count": 1,
      "outputs": []
    },
    {
      "cell_type": "code",
      "metadata": {
        "id": "745bd8cb"
      },
      "source": [
        "class Game:\n",
        "    \"\"\"A game is similar to a problem, but it has a terminal test instead of \n",
        "    a goal test, and a utility for each terminal state. To create a game, \n",
        "    subclass this class and implement `actions`, `result`, `is_terminal`, \n",
        "    and `utility`. You will also need to set the .initial attribute to the \n",
        "    initial state; this can be done in the constructor.\"\"\"\n",
        "\n",
        "    def actions(self, state):\n",
        "        \"\"\"Return a collection of the allowable moves from this state.\"\"\"\n",
        "        raise NotImplementedError\n",
        "\n",
        "    def result(self, state, move):\n",
        "        \"\"\"Return the state that results from making a move from a state.\"\"\"\n",
        "        raise NotImplementedError\n",
        "\n",
        "    def is_terminal(self, state):\n",
        "        \"\"\"Return True if this is a final state for the game.\"\"\"\n",
        "        return not self.actions(state)\n",
        "    \n",
        "    def utility(self, state, player):\n",
        "        \"\"\"Return the value of this final state to player.\"\"\"\n",
        "        raise NotImplementedError\n",
        "        \n",
        "\n",
        "def play_game(game, strategies: dict, verbose=False):\n",
        "    \"\"\"Play a turn-taking game. `strategies` is a {player_name: function} dict,\n",
        "    where function(state, game) is used to get the player's move.\"\"\"\n",
        "    state = game.initial\n",
        "    while not game.is_terminal(state):\n",
        "        player = state.to_move\n",
        "        move = strategies[player](game, state)\n",
        "        state = game.result(state, move)\n",
        "        if verbose: \n",
        "            print('Player', player, 'move:', move)\n",
        "            print(state)\n",
        "    return state"
      ],
      "id": "745bd8cb",
      "execution_count": 2,
      "outputs": []
    },
    {
      "cell_type": "markdown",
      "metadata": {
        "id": "137b5adb"
      },
      "source": [
        "# Minimax-Based Game Search Algorithms\n",
        "\n",
        "We will define several game search algorithms. Each takes two inputs, the game we are playing and the current state of the game, and returns a a `(value, move)` pair, where `value` is the utility that the algorithm computes for the player whose turn it is to move, and `move` is the move itself.\n",
        "\n",
        "First we define `minimax_search`, which exhaustively searches the game tree to find an optimal move (assuming both players play optimally), and `alphabeta_search`, which does the same computation, but prunes parts of the tree that could not possibly have an affect on the optimnal move.  "
      ],
      "id": "137b5adb"
    },
    {
      "cell_type": "code",
      "metadata": {
        "id": "b925fc47"
      },
      "source": [
        "def minimax_search(game, state):\n",
        "    \"\"\"Search game tree to determine best move; return (value, move) pair.\"\"\"\n",
        "\n",
        "    player = state.to_move\n",
        "\n",
        "    def max_value(state):\n",
        "        if game.is_terminal(state):\n",
        "            return game.utility(state, player), None\n",
        "        v, move = -infinity, None\n",
        "        for a in game.actions(state):\n",
        "            v2, _ = min_value(game.result(state, a))\n",
        "            if v2 > v:\n",
        "                v, move = v2, a\n",
        "        return v, move\n",
        "\n",
        "    def min_value(state):\n",
        "        if game.is_terminal(state):\n",
        "            return game.utility(state, player), None\n",
        "        v, move = +infinity, None\n",
        "        for a in game.actions(state):\n",
        "            v2, _ = max_value(game.result(state, a))\n",
        "            if v2 < v:\n",
        "                v, move = v2, a\n",
        "        return v, move\n",
        "\n",
        "    return max_value(state)\n",
        "\n",
        "infinity = math.inf\n",
        "\n",
        "def alphabeta_search(game, state):\n",
        "    \"\"\"Search game to determine best action; use alpha-beta pruning.\n",
        "    As in [Figure 5.7], this version searches all the way to the leaves.\"\"\"\n",
        "\n",
        "    player = state.to_move\n",
        "\n",
        "    def max_value(state, alpha, beta):\n",
        "        if game.is_terminal(state):\n",
        "            return game.utility(state, player), None\n",
        "        v, move = -infinity, None\n",
        "        for a in game.actions(state):\n",
        "            v2, _ = min_value(game.result(state, a), alpha, beta)\n",
        "            if v2 > v:\n",
        "                v, move = v2, a\n",
        "                alpha = max(alpha, v)\n",
        "            if v >= beta:\n",
        "                return v, move\n",
        "        return v, move\n",
        "\n",
        "    def min_value(state, alpha, beta):\n",
        "        if game.is_terminal(state):\n",
        "            return game.utility(state, player), None\n",
        "        v, move = +infinity, None\n",
        "        for a in game.actions(state):\n",
        "            v2, _ = max_value(game.result(state, a), alpha, beta)\n",
        "            if v2 < v:\n",
        "                v, move = v2, a\n",
        "                beta = min(beta, v)\n",
        "            if v <= alpha:\n",
        "                return v, move\n",
        "        return v, move\n",
        "\n",
        "    return max_value(state, -infinity, +infinity)"
      ],
      "id": "b925fc47",
      "execution_count": 3,
      "outputs": []
    },
    {
      "cell_type": "markdown",
      "metadata": {
        "id": "88fcb24c"
      },
      "source": [
        "# A Simple Game: Tic-Tac-Toe\n",
        "\n",
        "We have the notion of an abstract game, we have some search functions; now it is time to define a real game; a simple one, tic-tac-toe. Moves are `(x, y)` pairs denoting squares, where `(0, 0)` is the top left, and `(2, 2)` is the bottom right (on a board of size `height=width=3`)."
      ],
      "id": "88fcb24c"
    },
    {
      "cell_type": "code",
      "metadata": {
        "id": "43686733"
      },
      "source": [
        "class TicTacToe(Game):\n",
        "    \"\"\"Play TicTacToe on an `height` by `width` board, needing `k` in a row to win.\n",
        "    'X' plays first against 'O'.\"\"\"\n",
        "\n",
        "    def __init__(self, height=3, width=3, k=3):\n",
        "        self.k = k # k in a row\n",
        "        self.squares = {(x, y) for x in range(width) for y in range(height)}\n",
        "        self.initial = Board(height=height, width=width, to_move='X', utility=0)\n",
        "\n",
        "    def actions(self, board):\n",
        "        \"\"\"Legal moves are any square not yet taken.\"\"\"\n",
        "        return self.squares - set(board)\n",
        "\n",
        "    def result(self, board, square):\n",
        "        \"\"\"Place a marker for current player on square.\"\"\"\n",
        "        player = board.to_move\n",
        "        board = board.new({square: player}, to_move=('O' if player == 'X' else 'X'))\n",
        "        win = k_in_row(board, player, square, self.k)\n",
        "        board.utility = (0 if not win else +1 if player == 'X' else -1)\n",
        "        return board\n",
        "\n",
        "    def utility(self, board, player):\n",
        "        \"\"\"Return the value to player; 1 for win, -1 for loss, 0 otherwise.\"\"\"\n",
        "        return board.utility if player == 'X' else -board.utility\n",
        "\n",
        "    def is_terminal(self, board):\n",
        "        \"\"\"A board is a terminal state if it is won or there are no empty squares.\"\"\"\n",
        "        return board.utility != 0 or len(self.squares) == len(board)\n",
        "\n",
        "    def display(self, board): print(board)     \n",
        "\n",
        "\n",
        "def k_in_row(board, player, square, k):\n",
        "    \"\"\"True if player has k pieces in a line through square.\"\"\"\n",
        "    def in_row(x, y, dx, dy): return 0 if board[x, y] != player else 1 + in_row(x + dx, y + dy, dx, dy)\n",
        "    return any(in_row(*square, dx, dy) + in_row(*square, -dx, -dy) - 1 >= k\n",
        "               for (dx, dy) in ((0, 1), (1, 0), (1, 1), (1, -1)))"
      ],
      "id": "43686733",
      "execution_count": 4,
      "outputs": []
    },
    {
      "cell_type": "markdown",
      "metadata": {
        "id": "fc498d89"
      },
      "source": [
        "States in tic-tac-toe (and other games) will be represented as a `Board`, which is a subclass of `defaultdict` that in general will consist of `{(x, y): contents}` pairs, for example `{(0, 0): 'X', (1, 1): 'O'}` might be the state of the board after two moves. Besides the contents of squares, a board also has some attributes: \n",
        "- `.to_move` to name the player whose move it is; \n",
        "- `.width` and `.height` to give the size of the board (both 3 in tic-tac-toe, but other numbers in related games);\n",
        "- possibly other attributes, as specified by keywords. \n",
        "\n",
        "As a `defaultdict`, the `Board` class has a `__missing__` method, which returns `empty` for squares that have no been assigned but are within the `width` × `height` boundaries, or `off` otherwise. The class has a `__hash__` method, so instances can be stored in hash tables."
      ],
      "id": "fc498d89"
    },
    {
      "cell_type": "code",
      "metadata": {
        "id": "96832b1b"
      },
      "source": [
        "class Board(defaultdict):\n",
        "    \"\"\"A board has the player to move, a cached utility value, \n",
        "    and a dict of {(x, y): player} entries, where player is 'X' or 'O'.\"\"\"\n",
        "    empty = '.'\n",
        "    off = '#'\n",
        "    \n",
        "    def __init__(self, width=8, height=8, to_move=None, **kwds):\n",
        "        self.__dict__.update(width=width, height=height, to_move=to_move, **kwds)\n",
        "        \n",
        "    def new(self, changes: dict, **kwds) -> 'Board':\n",
        "        \"Given a dict of {(x, y): contents} changes, return a new Board with the changes.\"\n",
        "        board = Board(width=self.width, height=self.height, **kwds)\n",
        "        board.update(self)\n",
        "        board.update(changes)\n",
        "        return board\n",
        "\n",
        "    def __missing__(self, loc):\n",
        "        x, y = loc\n",
        "        if 0 <= x < self.width and 0 <= y < self.height:\n",
        "            return self.empty\n",
        "        else:\n",
        "            return self.off\n",
        "            \n",
        "    def __hash__(self): \n",
        "        return hash(tuple(sorted(self.items()))) + hash(self.to_move)\n",
        "    \n",
        "    def __repr__(self):\n",
        "        def row(y): return ' '.join(self[x, y] for x in range(self.width))\n",
        "        return '\\n'.join(map(row, range(self.height))) +  '\\n'"
      ],
      "id": "96832b1b",
      "execution_count": 5,
      "outputs": []
    },
    {
      "cell_type": "markdown",
      "metadata": {
        "id": "28678179"
      },
      "source": [
        "# Players\n",
        "\n",
        "We need an interface for players. I'll represent a player as a `callable` that will be passed two arguments: `(game, state)` and will return a `move`.\n",
        "The function `player` creates a player out of a search algorithm, but you can create your own players as functions, as is done with `random_player` below:"
      ],
      "id": "28678179"
    },
    {
      "cell_type": "code",
      "metadata": {
        "id": "dfbabff9"
      },
      "source": [
        "def random_player(game, state): return random.choice(list(game.actions(state)))\n",
        "\n",
        "def player(search_algorithm):\n",
        "    \"\"\"A game player who uses the specified search algorithm\"\"\"\n",
        "    return lambda game, state: search_algorithm(game, state)[1]"
      ],
      "id": "dfbabff9",
      "execution_count": 6,
      "outputs": []
    },
    {
      "cell_type": "markdown",
      "metadata": {
        "id": "f26104d0"
      },
      "source": [
        "# Playing a Game\n",
        "\n",
        "We're ready to play a game. I'll set up a match between a `random_player` (who chooses randomly from the legal moves) and a `player(alphabeta_search)` (who makes the optimal alpha-beta move; practical for tic-tac-toe, but not for large games). The `player(alphabeta_search)` will never lose, but if `random_player` is lucky, it will be a tie."
      ],
      "id": "f26104d0"
    },
    {
      "cell_type": "code",
      "metadata": {
        "colab": {
          "base_uri": "https://localhost:8080/"
        },
        "id": "76c42ef1",
        "outputId": "22df9549-f1f9-4691-b238-ec575a0421e2"
      },
      "source": [
        "play_game(TicTacToe(), dict(X=random_player, O=player(alphabeta_search)), verbose=True).utility"
      ],
      "id": "76c42ef1",
      "execution_count": 7,
      "outputs": [
        {
          "output_type": "stream",
          "name": "stdout",
          "text": [
            "Player X move: (0, 2)\n",
            ". . .\n",
            ". . .\n",
            "X . .\n",
            "\n",
            "Player O move: (1, 1)\n",
            ". . .\n",
            ". O .\n",
            "X . .\n",
            "\n",
            "Player X move: (1, 2)\n",
            ". . .\n",
            ". O .\n",
            "X X .\n",
            "\n",
            "Player O move: (2, 2)\n",
            ". . .\n",
            ". O .\n",
            "X X O\n",
            "\n",
            "Player X move: (2, 0)\n",
            ". . X\n",
            ". O .\n",
            "X X O\n",
            "\n",
            "Player O move: (0, 1)\n",
            ". . X\n",
            "O O .\n",
            "X X O\n",
            "\n",
            "Player X move: (0, 0)\n",
            "X . X\n",
            "O O .\n",
            "X X O\n",
            "\n",
            "Player O move: (2, 1)\n",
            "X . X\n",
            "O O O\n",
            "X X O\n",
            "\n"
          ]
        },
        {
          "output_type": "execute_result",
          "data": {
            "text/plain": [
              "-1"
            ]
          },
          "metadata": {},
          "execution_count": 7
        }
      ]
    },
    {
      "cell_type": "markdown",
      "metadata": {
        "id": "060b83db"
      },
      "source": [
        "The alpha-beta player will never lose, but sometimes the random player can stumble into a draw. When two optimal (alpha-beta or minimax) players compete, it will always be a draw:"
      ],
      "id": "060b83db"
    },
    {
      "cell_type": "code",
      "metadata": {
        "colab": {
          "base_uri": "https://localhost:8080/"
        },
        "id": "3312ba65",
        "outputId": "53028ae8-3662-4771-cbac-9a22a795c322"
      },
      "source": [
        "play_game(TicTacToe(), dict(X=player(alphabeta_search), O=player(minimax_search)), verbose=True).utility"
      ],
      "id": "3312ba65",
      "execution_count": 8,
      "outputs": [
        {
          "output_type": "stream",
          "name": "stdout",
          "text": [
            "Player X move: (0, 1)\n",
            ". . .\n",
            "X . .\n",
            ". . .\n",
            "\n",
            "Player O move: (0, 0)\n",
            "O . .\n",
            "X . .\n",
            ". . .\n",
            "\n",
            "Player X move: (2, 0)\n",
            "O . X\n",
            "X . .\n",
            ". . .\n",
            "\n",
            "Player O move: (2, 1)\n",
            "O . X\n",
            "X . O\n",
            ". . .\n",
            "\n",
            "Player X move: (1, 2)\n",
            "O . X\n",
            "X . O\n",
            ". X .\n",
            "\n",
            "Player O move: (0, 2)\n",
            "O . X\n",
            "X . O\n",
            "O X .\n",
            "\n",
            "Player X move: (1, 0)\n",
            "O X X\n",
            "X . O\n",
            "O X .\n",
            "\n",
            "Player O move: (1, 1)\n",
            "O X X\n",
            "X O O\n",
            "O X .\n",
            "\n",
            "Player X move: (2, 2)\n",
            "O X X\n",
            "X O O\n",
            "O X X\n",
            "\n"
          ]
        },
        {
          "output_type": "execute_result",
          "data": {
            "text/plain": [
              "0"
            ]
          },
          "metadata": {},
          "execution_count": 8
        }
      ]
    },
    {
      "cell_type": "markdown",
      "metadata": {
        "id": "259afd6c"
      },
      "source": [
        "### Exercise 1. As in previous tutorials, place print statements so that you can trace the operation of the algorithms."
      ],
      "id": "259afd6c"
    },
    {
      "cell_type": "markdown",
      "metadata": {
        "id": "2fc437d9"
      },
      "source": [
        "### Exercise 2. Create a command so that the game is played with two random players."
      ],
      "id": "2fc437d9"
    },
    {
      "cell_type": "code",
      "metadata": {
        "colab": {
          "base_uri": "https://localhost:8080/"
        },
        "id": "Dr2fn-qm-VO4",
        "outputId": "b1063ab5-42a9-4fad-e85b-49e6e7fb8b1d"
      },
      "source": [
        "play_game(TicTacToe(), dict(X=random_player, O=random_player), verbose=True).utility"
      ],
      "id": "Dr2fn-qm-VO4",
      "execution_count": 12,
      "outputs": [
        {
          "output_type": "stream",
          "name": "stdout",
          "text": [
            "Player X move: (2, 0)\n",
            ". . X\n",
            ". . .\n",
            ". . .\n",
            "\n",
            "Player O move: (2, 2)\n",
            ". . X\n",
            ". . .\n",
            ". . O\n",
            "\n",
            "Player X move: (0, 0)\n",
            "X . X\n",
            ". . .\n",
            ". . O\n",
            "\n",
            "Player O move: (0, 1)\n",
            "X . X\n",
            "O . .\n",
            ". . O\n",
            "\n",
            "Player X move: (0, 2)\n",
            "X . X\n",
            "O . .\n",
            "X . O\n",
            "\n",
            "Player O move: (1, 0)\n",
            "X O X\n",
            "O . .\n",
            "X . O\n",
            "\n",
            "Player X move: (1, 1)\n",
            "X O X\n",
            "O X .\n",
            "X . O\n",
            "\n"
          ]
        },
        {
          "output_type": "execute_result",
          "data": {
            "text/plain": [
              "1"
            ]
          },
          "metadata": {},
          "execution_count": 12
        }
      ]
    },
    {
      "cell_type": "markdown",
      "metadata": {
        "id": "0a400b35"
      },
      "source": [
        "### Exercise 3. Can you change the game to use a 4x4 board. \n",
        "What is the difference in performance. Can you estimate how large the game tree grows in the worst case?\n"
      ],
      "id": "0a400b35"
    },
    {
      "cell_type": "code",
      "metadata": {
        "colab": {
          "base_uri": "https://localhost:8080/"
        },
        "id": "cZJmeToz_RIE",
        "outputId": "cb8d84b5-350b-4a34-902d-db86b7d9aeb9"
      },
      "source": [
        "play_game(TicTacToe(height=4, width=4), dict(X=random_player, O=random_player), verbose=True).utility"
      ],
      "id": "cZJmeToz_RIE",
      "execution_count": 13,
      "outputs": [
        {
          "output_type": "stream",
          "name": "stdout",
          "text": [
            "Player X move: (0, 1)\n",
            ". . . .\n",
            "X . . .\n",
            ". . . .\n",
            ". . . .\n",
            "\n",
            "Player O move: (3, 1)\n",
            ". . . .\n",
            "X . . O\n",
            ". . . .\n",
            ". . . .\n",
            "\n",
            "Player X move: (0, 0)\n",
            "X . . .\n",
            "X . . O\n",
            ". . . .\n",
            ". . . .\n",
            "\n",
            "Player O move: (1, 3)\n",
            "X . . .\n",
            "X . . O\n",
            ". . . .\n",
            ". O . .\n",
            "\n",
            "Player X move: (3, 0)\n",
            "X . . X\n",
            "X . . O\n",
            ". . . .\n",
            ". O . .\n",
            "\n",
            "Player O move: (2, 1)\n",
            "X . . X\n",
            "X . O O\n",
            ". . . .\n",
            ". O . .\n",
            "\n",
            "Player X move: (1, 0)\n",
            "X X . X\n",
            "X . O O\n",
            ". . . .\n",
            ". O . .\n",
            "\n",
            "Player O move: (0, 2)\n",
            "X X . X\n",
            "X . O O\n",
            "O . . .\n",
            ". O . .\n",
            "\n",
            "Player X move: (1, 2)\n",
            "X X . X\n",
            "X . O O\n",
            "O X . .\n",
            ". O . .\n",
            "\n",
            "Player O move: (3, 3)\n",
            "X X . X\n",
            "X . O O\n",
            "O X . .\n",
            ". O . O\n",
            "\n",
            "Player X move: (2, 2)\n",
            "X X . X\n",
            "X . O O\n",
            "O X X .\n",
            ". O . O\n",
            "\n",
            "Player O move: (2, 3)\n",
            "X X . X\n",
            "X . O O\n",
            "O X X .\n",
            ". O O O\n",
            "\n"
          ]
        },
        {
          "output_type": "execute_result",
          "data": {
            "text/plain": [
              "-1"
            ]
          },
          "metadata": {},
          "execution_count": 13
        }
      ]
    }
  ]
}